{
 "cells": [
  {
   "cell_type": "code",
   "execution_count": 1,
   "id": "7eb0ff01",
   "metadata": {},
   "outputs": [
    {
     "name": "stdout",
     "output_type": "stream",
     "text": [
      "Suma de votos en mesas anómalas por candidato:\n",
      "EG      28929\n",
      "NM      24877\n",
      "LM        488\n",
      "JABE      121\n",
      "JOBR      114\n",
      "AE        250\n",
      "CF         57\n",
      "DC         65\n",
      "EM        126\n",
      "BERA      209\n",
      "dtype: int64\n",
      "\n",
      "Promedio de votos en mesas normales por candidato:\n",
      "EG      293.265841\n",
      "NM      132.347926\n",
      "LM        3.454493\n",
      "JABE      0.816532\n",
      "JOBR      0.883353\n",
      "AE        2.030653\n",
      "CF        0.504608\n",
      "DC        0.421453\n",
      "EM        1.046906\n",
      "BERA      1.530571\n",
      "dtype: float64\n",
      "\n",
      "Comparación de votos (Anómalas / Normales):\n",
      "EG       98.644288\n",
      "NM      187.966678\n",
      "LM      141.265299\n",
      "JABE    148.187654\n",
      "JOBR    129.053799\n",
      "AE      123.113083\n",
      "CF      112.958904\n",
      "DC      154.228253\n",
      "EM      120.354661\n",
      "BERA    136.550337\n",
      "dtype: float64\n"
     ]
    }
   ],
   "source": [
    "import pandas as pd\n",
    "import numpy as np\n",
    "import scipy.stats as stats\n",
    "\n",
    "# Cargar los datos\n",
    "file_path = 'RESULTADOS_2024_CSV_V1.csv'\n",
    "datos_electorales = pd.read_csv(file_path)\n",
    "\n",
    "# Calcular el porcentaje de participación\n",
    "datos_electorales['Porcentaje_Participacion'] = (datos_electorales['VOTOS_VALIDOS'] / datos_electorales['RE']) * 100\n",
    "\n",
    "# Calcular el z-score de la participación\n",
    "datos_electorales['Z_Score_Participacion'] = np.abs(stats.zscore(datos_electorales['Porcentaje_Participacion']))\n",
    "\n",
    "# Definir un umbral para identificar anomalías (e.g., z-score > 3)\n",
    "umbral_z_score = 3\n",
    "mesas_anomalas = datos_electorales[datos_electorales['Z_Score_Participacion'] > umbral_z_score]\n",
    "\n",
    "# Votos por candidato en mesas anómalas\n",
    "votos_candidatos_anomalas = mesas_anomalas[['EG', 'NM', 'LM', 'JABE', 'JOBR', 'AE', 'CF', 'DC', 'EM', 'BERA']]\n",
    "\n",
    "# Sumar los votos por candidato en mesas anómalas\n",
    "sum_votos_anomalas = votos_candidatos_anomalas.sum()\n",
    "\n",
    "# Calcular votos promedio por candidato en mesas normales\n",
    "mesas_normales = datos_electorales[datos_electorales['Z_Score_Participacion'] <= umbral_z_score]\n",
    "promedio_votos_normales = mesas_normales[['EG', 'NM', 'LM', 'JABE', 'JOBR', 'AE', 'CF', 'DC', 'EM', 'BERA']].mean()\n",
    "\n",
    "# Comparación de votos anómalos con el promedio normal\n",
    "comparacion = sum_votos_anomalas / promedio_votos_normales\n",
    "\n",
    "print(\"Suma de votos en mesas anómalas por candidato:\")\n",
    "print(sum_votos_anomalas)\n",
    "print(\"\\nPromedio de votos en mesas normales por candidato:\")\n",
    "print(promedio_votos_normales)\n",
    "print(\"\\nComparación de votos (Anómalas / Normales):\")\n",
    "print(comparacion)"
   ]
  },
  {
   "cell_type": "code",
   "execution_count": null,
   "id": "77d9f135",
   "metadata": {},
   "outputs": [],
   "source": []
  }
 ],
 "metadata": {
  "kernelspec": {
   "display_name": "Python 3 (ipykernel)",
   "language": "python",
   "name": "python3"
  },
  "language_info": {
   "codemirror_mode": {
    "name": "ipython",
    "version": 3
   },
   "file_extension": ".py",
   "mimetype": "text/x-python",
   "name": "python",
   "nbconvert_exporter": "python",
   "pygments_lexer": "ipython3",
   "version": "3.10.14"
  }
 },
 "nbformat": 4,
 "nbformat_minor": 5
}
