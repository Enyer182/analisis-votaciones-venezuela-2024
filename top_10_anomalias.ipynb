{
 "cells": [
  {
   "cell_type": "code",
   "execution_count": 7,
   "id": "31768639",
   "metadata": {},
   "outputs": [
    {
     "name": "stdout",
     "output_type": "stream",
     "text": [
      "Anomalías Detectadas (Top 10 basadas en la Participación):\n",
      "                   EDO                   MUN     CENTRO   \n",
      "14299  EDO. PORTUGUESA            MP. OSPINO  160502015  \\\n",
      "15687  EDO. PORTUGUESA             MP. TUREN  160801032   \n",
      "14958     EDO. TACHIRA     MP. CAPACHO NUEVO  180301018   \n",
      "17963     EDO. TACHIRA     MP. SAN CRISTOBAL  180802030   \n",
      "9796       EDO. MERIDA            MP. RANGEL  121603005   \n",
      "8123         EDO. LARA           MP. JIMENEZ  110304006   \n",
      "20640     EDO. YARACUY  MP. ARISTIDES BASTID  201201023   \n",
      "18561     EDO. TACHIRA     MP. SAN CRISTOBAL  180804014   \n",
      "1780       EDO. ARAGUA        MP. LIBERTADOR   40901016   \n",
      "11959     EDO. MIRANDA          MP. URDANETA  131001051   \n",
      "\n",
      "      Porcentaje_Participacion  \n",
      "14299                   99.06%  \n",
      "15687                   98.77%  \n",
      "14958                   98.32%  \n",
      "17963                   96.97%  \n",
      "9796                    96.73%  \n",
      "8123                    96.64%  \n",
      "20640                   96.46%  \n",
      "18561                   96.45%  \n",
      "1780                    96.45%  \n",
      "11959                   96.28%  \n"
     ]
    }
   ],
   "source": [
    "import pandas as pd\n",
    "import numpy as np\n",
    "import scipy.stats as stats\n",
    "\n",
    "# Cargar los datos de la elección\n",
    "file_path = 'RESULTADOS_2024_CSV_V1.csv'\n",
    "datos_electorales = pd.read_csv(file_path)\n",
    "\n",
    "# Calcular el porcentaje de participación de votantes\n",
    "datos_electorales['Porcentaje_Participacion'] = (datos_electorales['VOTOS_VALIDOS'] / datos_electorales['RE']) * 100\n",
    "\n",
    "# Calcular el z-score de la participación\n",
    "datos_electorales['Z_Score_Participacion'] = np.abs(stats.zscore(datos_electorales['Porcentaje_Participacion']))\n",
    "\n",
    "# Definir un umbral para el z-score, valores por encima de 3 son considerados extremos\n",
    "umbral = 3\n",
    "anomalias = datos_electorales[datos_electorales['Z_Score_Participacion'] > umbral].copy()  # Usar copy() para evitar SettingWithCopyWarning\n",
    "\n",
    "# Formatear los porcentajes para visualización directamente en el DataFrame 'anomalias'\n",
    "anomalias.loc[:, 'Porcentaje_Participacion'] = anomalias['Porcentaje_Participacion'].apply(lambda x: f\"{x:.2f}%\")\n",
    "\n",
    "# Crear una tabla resumida, seleccionando las top 10 anomalías basadas en la participación\n",
    "anomalias_resumidas = anomalias[['EDO', 'MUN', 'CENTRO', 'Porcentaje_Participacion']]\n",
    "anomalias_resumidas = anomalias_resumidas.sort_values(by='Porcentaje_Participacion', ascending=False).head(10)\n",
    "\n",
    "# Mostrar la tabla\n",
    "print(\"Anomalías Detectadas (Top 10 basadas en la Participación):\")\n",
    "print(anomalias_resumidas)"
   ]
  },
  {
   "cell_type": "code",
   "execution_count": null,
   "id": "01c62ebe",
   "metadata": {},
   "outputs": [],
   "source": []
  },
  {
   "cell_type": "code",
   "execution_count": null,
   "id": "a7f4d142-0c8f-44ce-b666-f69fc273a42a",
   "metadata": {},
   "outputs": [],
   "source": []
  }
 ],
 "metadata": {
  "kernelspec": {
   "display_name": "Python 3 (ipykernel)",
   "language": "python",
   "name": "python3"
  },
  "language_info": {
   "codemirror_mode": {
    "name": "ipython",
    "version": 3
   },
   "file_extension": ".py",
   "mimetype": "text/x-python",
   "name": "python",
   "nbconvert_exporter": "python",
   "pygments_lexer": "ipython3",
   "version": "3.10.14"
  }
 },
 "nbformat": 4,
 "nbformat_minor": 5
}
