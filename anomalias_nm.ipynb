{
 "cells": [
  {
   "cell_type": "code",
   "execution_count": 3,
   "id": "c6f2a7c2-c939-41f0-8ef8-f2c9b524818a",
   "metadata": {},
   "outputs": [
    {
     "name": "stdout",
     "output_type": "stream",
     "text": [
      "Anomalías Detectadas en la Participación de NM:\n",
      "                   EDO                  MUN     CENTRO  Porcentaje_NM\n",
      "18205       EDO. ZULIA             MP. MARA  210404023      84.240150\n",
      "9561         EDO. LARA  MP. ANDRES E BLANCO  110802024      83.495146\n",
      "23258       EDO. SUCRE          MP. BENITEZ  170205007      83.255814\n",
      "9566         EDO. LARA  MP. ANDRES E BLANCO  110802022      81.220657\n",
      "9212         EDO. LARA  MP. ANDRES E BLANCO  110803012      81.081081\n",
      "16573       EDO. SUCRE           MP. MARIÑO  170501014      80.322581\n",
      "9310         EDO. LARA  MP. ANDRES E BLANCO  110801050      80.132450\n",
      "517    EDO. ANZOATEGUI          MP. FREITES   20601039      79.310345\n",
      "18635       EDO. ZULIA             MP. MARA  210404021      78.305085\n",
      "9259         EDO. LARA  MP. ANDRES E BLANCO  110803006      78.176796\n"
     ]
    }
   ],
   "source": [
    "import numpy as np\n",
    "import scipy.stats as stats\n",
    "\n",
    "# Calcular el porcentaje de votos de NM respecto al total de electores registrados\n",
    "datos_electorales['Porcentaje_NM'] = (datos_electorales['NM'] / datos_electorales['RE']) * 100\n",
    "\n",
    "# Calcular el z-score para el porcentaje de votos de NM\n",
    "datos_electorales['Z_Score_NM'] = np.abs(stats.zscore(datos_electorales['Porcentaje_NM']))\n",
    "\n",
    "# Definir un umbral para considerar que los valores son anómalos, por ejemplo, un z-score mayor a 3\n",
    "umbral = 3\n",
    "anomalias_nm = datos_electorales[datos_electorales['Z_Score_NM'] > umbral]\n",
    "\n",
    "# Mostrar las anomalías detectadas para NM\n",
    "print(\"Anomalías Detectadas en la Participación de NM:\")\n",
    "print(anomalias_nm[['EDO', 'MUN', 'CENTRO', 'Porcentaje_NM']].sort_values(by='Porcentaje_NM', ascending=False).head(10))"
   ]
  },
  {
   "cell_type": "code",
   "execution_count": null,
   "id": "3d4cf801-c990-4840-8142-97569b6e4dac",
   "metadata": {},
   "outputs": [],
   "source": []
  }
 ],
 "metadata": {
  "kernelspec": {
   "display_name": "Python 3 (ipykernel)",
   "language": "python",
   "name": "python3"
  },
  "language_info": {
   "codemirror_mode": {
    "name": "ipython",
    "version": 3
   },
   "file_extension": ".py",
   "mimetype": "text/x-python",
   "name": "python",
   "nbconvert_exporter": "python",
   "pygments_lexer": "ipython3",
   "version": "3.10.14"
  }
 },
 "nbformat": 4,
 "nbformat_minor": 5
}
